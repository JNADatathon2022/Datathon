{
 "cells": [
  {
   "cell_type": "code",
   "execution_count": 151,
   "metadata": {},
   "outputs": [],
   "source": [
    "import networkx as nx\n",
    "from staticmap import StaticMap, CircleMarker, Line\n",
    "import matplotlib.pyplot as plt\n",
    "import matplotlib\n",
    "import numpy as np\n",
    "import pandas as pd\n",
    "import seaborn as sns\n",
    "import math\n",
    "from pprint import *\n",
    "import warnings\n",
    "warnings.filterwarnings('ignore')"
   ]
  },
  {
   "cell_type": "code",
   "execution_count": 22,
   "metadata": {},
   "outputs": [],
   "source": [
    "#======we import the orders======#\n",
    "df_orders = pd.read_csv('data\\orders.csv', sep=';')"
   ]
  },
  {
   "cell_type": "code",
   "execution_count": 23,
   "metadata": {},
   "outputs": [],
   "source": [
    "# import data from csv file\n",
    "df_cities = pd.read_csv('data\\cities_data_costs.csv')\n",
    "norm_par = ['co2_per_unit', 'cost_per_unit']\n",
    "df_norm = df_cities.copy()\n",
    "for par in norm_par:\n",
    "    df_norm[par] = (df_cities[par]-df_cities[par].min())/(df_cities[par].max()-df_cities[par].min())"
   ]
  },
  {
   "cell_type": "code",
   "execution_count": 24,
   "metadata": {},
   "outputs": [],
   "source": [
    "def get_cost(emissions, cost, alpha):\n",
    "    return alpha*emissions + (1-alpha)*cost"
   ]
  },
  {
   "cell_type": "code",
   "execution_count": 25,
   "metadata": {},
   "outputs": [],
   "source": [
    "def get_cost_path(city_orig, city_dest, df_func):\n",
    "    if(city_orig[2:] == city_dest[2:]):\n",
    "        return 0\n",
    "    pes = df_func[(df_func['city_from_name']==city_orig[2:]) & (df_func['city_to_name']==city_dest[2:])]\n",
    "    if pes.empty:\n",
    "        pes = df_func[(df_func['city_from_name']==city_dest[2:]) & (df_func['city_to_name']==city_orig[2:])]\n",
    "    return pes['cost'].values[0]"
   ]
  },
  {
   "cell_type": "code",
   "execution_count": 26,
   "metadata": {},
   "outputs": [],
   "source": [
    "def declare_costs_graph(G, ports, hubs, cities, df_func):\n",
    "    for p in ports:\n",
    "        for h in hubs:\n",
    "            pes = get_cost_path(p, h, df_func)\n",
    "            G.add_edge(p, h, cost=pes)\n",
    "    for h in hubs:\n",
    "        for c in cities:\n",
    "            pes = get_cost_path(c, h, df_func)\n",
    "            G.add_edge(h, c, cost=pes)"
   ]
  },
  {
   "cell_type": "code",
   "execution_count": 27,
   "metadata": {},
   "outputs": [],
   "source": [
    "def get_min_cost_matrix(G, ports, cities, df_func):\n",
    "    '''Matrix that stores the cost of minimum path of: [port][customer][extra hub]\n",
    "    extra_hub = 0 -> no extra hub, extra_hub -> extra hub - 1'''\n",
    "    M = np.zeros((len(ports), len(cities), len(cities)+1))\n",
    "    for p in range(len(ports)):\n",
    "        for c in range(len(cities)):\n",
    "            M[p, c, 0] = nx.dijkstra_path_length(G, ports[p], cities[c], weight='cost')\n",
    "\n",
    "    for p in range(len(ports)):\n",
    "        for c in range(len(cities)):\n",
    "            for h in range(1, len(cities)+1):\n",
    "                new_path = get_cost_path(ports[p], cities[h-1], df_func) + get_cost_path(cities[h-1], cities[c], df_func)\n",
    "                M[p, c, h] = min(M[p, c, 0], new_path)\n",
    "    return M"
   ]
  },
  {
   "cell_type": "code",
   "execution_count": 28,
   "metadata": {},
   "outputs": [
    {
     "data": {
      "image/png": "[encoded data removed]",
      "text/plain": [
       "<Figure size 640x480 with 1 Axes>"
      ]
     },
     "metadata": {},
     "output_type": "display_data"
    }
   ],
   "source": [
    "PORTS = ['Barcelona', 'Rotterdam', 'Athens']\n",
    "HUBS = ['Hamburg', 'Lille', 'Warsaw', 'Zaragoza', 'Bratislava', 'Dusseldorf', 'Liege', 'Venlo', 'Rome']\n",
    "CITIES  = df_cities['city_from_name'].unique()\n",
    "PORTS = ['p-'+p for p in PORTS]\n",
    "HUBS = ['h-'+h for h in HUBS]\n",
    "CITIES = ['c-'+c for c in CITIES]\n",
    "\n",
    "# create graph\n",
    "G = nx.Graph()\n",
    "for x in PORTS + HUBS + CITIES:\n",
    "    G.add_node(x, bipartite= ['p-', 'h-', 'c-'].index(x[:2]))\n",
    "\n",
    "\n",
    "nodes = G.nodes()\n",
    "# for each of the parts create a set \n",
    "nodes_0  = set([n for n in nodes if  G.nodes[n]['bipartite']==0])\n",
    "nodes_1  = set([n for n in nodes if  G.nodes[n]['bipartite']==1])\n",
    "nodes_2  = set([n for n in nodes if  G.nodes[n]['bipartite']==2])\n",
    "\n",
    "# set the location of the nodes for each set\n",
    "pos = dict()\n",
    "pos.update( (n, (1, i)) for i, n in enumerate(nodes_0) ) # put nodes from X at x=1\n",
    "pos.update( (n, (2, i)) for i, n in enumerate(nodes_1) ) # put nodes from Y at x=2\n",
    "pos.update( (n, (3, i)) for i, n in enumerate(nodes_2) ) # put nodes from X at x=1\n",
    "# draw graph\n",
    "nx.draw(G, pos=pos)"
   ]
  },
  {
   "cell_type": "code",
   "execution_count": 29,
   "metadata": {},
   "outputs": [],
   "source": [
    "def generate_matrices(alpha):\n",
    "    # generates the matrices for each of the weights\n",
    "    matrices = [] # list of matrixs for each weight class\n",
    "    for weight in range(10):\n",
    "        df_cities_weight = df_norm.iloc[weight::10,:]\n",
    "        cost = [get_cost(df_cities_weight['co2_per_unit'].iloc[i], df_cities_weight['cost_per_unit'].iloc[i], alpha) for i in range(len(df_cities_weight))]\n",
    "        df_cities_weight['cost'] = cost\n",
    "        df_cities_weight = df_cities_weight.drop(columns=['co2_per_unit', 'cost_per_unit', 'city_from_coord', 'city_to_coord', 'weight_class', 'distance'])\n",
    "        declare_costs_graph(G, PORTS, HUBS, CITIES, df_cities_weight)\n",
    "        M = get_min_cost_matrix(G, PORTS, CITIES, df_cities_weight)\n",
    "        matrices.append(M)\n",
    "    return matrices"
   ]
  },
  {
   "cell_type": "code",
   "execution_count": 30,
   "metadata": {},
   "outputs": [],
   "source": [
    "def get_freq_matrix(df_func):\n",
    "    # Matrix that stores the frequency of  path: [weight][port][customer]\n",
    "    F = np.zeros((10, len(PORTS), len(CITIES)))\n",
    "    for w in range(10):\n",
    "        for p in range(len(PORTS)):\n",
    "            for c in range(len(CITIES)):\n",
    "                F[w, p, c] = np.sum(df_func.loc[(df_func['weight_class']==w) & (df_func['origin_port']==PORTS[p][2:]) & (df_func['customer']==CITIES[c][2:])]['units'].values)\n",
    "    return F"
   ]
  },
  {
   "cell_type": "code",
   "execution_count": 31,
   "metadata": {},
   "outputs": [],
   "source": [
    "df_orders = pd.read_csv('data\\dataframefinal.csv')\n",
    "F = get_freq_matrix(df_orders)"
   ]
  },
  {
   "cell_type": "code",
   "execution_count": 32,
   "metadata": {},
   "outputs": [],
   "source": [
    "# we ponderate the vector with the calclated frequencies\n",
    "def ponderate_vector(matrices, F, alpha):\n",
    "    pond_vect = []\n",
    "    for extra_h in range(len(CITIES)+1):\n",
    "        sum = 0\n",
    "        for w in range(10):\n",
    "            for p in range(len(PORTS)):\n",
    "                for c in range(len(CITIES)):\n",
    "                    sum += F[w, p, c]*matrices[w][p, c, extra_h]\n",
    "        if not CITIES[extra_h-1][2:] in [h[2:] for h in HUBS]:\n",
    "            pond_vect.append((alpha, sum, CITIES[extra_h-1][2:] if extra_h > 0 else 'AAAA None'))\n",
    "    return pond_vect"
   ]
  },
  {
   "cell_type": "code",
   "execution_count": 33,
   "metadata": {},
   "outputs": [],
   "source": [
    "def sort_and_save(pond_vect, alpha):\n",
    "    pond_vect.sort()\n",
    "    df = pd.DataFrame(pond_vect, columns=['alpha', 'cost', 'extra_hub'])\n",
    "    existing_df = pd.read_csv('data/results_alpha.csv')\n",
    "    if not alpha in existing_df['alpha'].unique():\n",
    "        df.to_csv('data/results_alpha.csv', mode='a', index=False, header=False)"
   ]
  },
  {
   "cell_type": "code",
   "execution_count": 34,
   "metadata": {},
   "outputs": [],
   "source": [
    "def show_pond_vector(pond_vect):\n",
    "    # histogram of pond_vect\n",
    "    plt.bar([x[2] for x in pond_vect], [x[1] for x in pond_vect])\n",
    "    plt.xticks(rotation=90)\n",
    "    offset = 500\n",
    "    plt.ylim(pond_vect[0][1] - offset, pond_vect[-1][1] + offset)\n",
    "    plt.show()"
   ]
  },
  {
   "cell_type": "code",
   "execution_count": 35,
   "metadata": {},
   "outputs": [],
   "source": [
    "def generate_hub_list(alpha, show = False):\n",
    "    matrices = generate_matrices(alpha)\n",
    "    pond_vect = ponderate_vector(matrices, F, alpha)\n",
    "    sort_and_save(pond_vect, alpha)\n",
    "    if show:\n",
    "        show_pond_vector(pond_vect)"
   ]
  },
  {
   "cell_type": "code",
   "execution_count": 36,
   "metadata": {},
   "outputs": [],
   "source": [
    "def better_extra_hub(alpha, port = False):\n",
    "    '''returns the better extra hub for a given alpha'''\n",
    "    df = pd.read_csv('data/results_alpha.csv')\n",
    "    df = df.loc[df['alpha']==alpha]\n",
    "    for i, x in df.iterrows():\n",
    "        if port:\n",
    "            return x['extra_hub']\n",
    "        else:\n",
    "            if not x['extra_hub'] in [p[2:] for p in PORTS]:\n",
    "                return x['extra_hub']"
   ]
  },
  {
   "cell_type": "code",
   "execution_count": 37,
   "metadata": {},
   "outputs": [],
   "source": [
    "for alpha in [0, 1]:\n",
    "    generate_hub_list(alpha/10)\n",
    "    print('With alpha', alpha/10, 'better ext(0, 10):ra hub city:',better_extra_hub(alpha/10))"
   ]
  },
  {
   "cell_type": "code",
   "execution_count": 38,
   "metadata": {},
   "outputs": [
    {
     "name": "stdout",
     "output_type": "stream",
     "text": [
      "COST with Amsterdam hub: 327_413_735.4\n",
      "co2 EMISSION with Marseille hub 566_732_476.3\n"
     ]
    }
   ],
   "source": [
    "calculated_df = pd.read_csv('data/results_alpha.csv')\n",
    "# para Amsterdam (alpha = 0, main objective is reduce cost)\n",
    "normalized_cost = calculated_df.loc[(calculated_df['alpha']==0) & (calculated_df['extra_hub']=='Amsterdam')]['cost'].values[0]\n",
    "original_cost = normalized_cost*(df_cities['cost_per_unit'].max() - df_cities['cost_per_unit'].min()) + df_cities['cost_per_unit'].min()\n",
    "print(f\"COST with Amsterdam hub: {original_cost:_.1f}\")\n",
    "\n",
    "# para Marseille (alpha = 1, main objective is reduce co2)\n",
    "normalized_cost = calculated_df.loc[(calculated_df['alpha']==1) & (calculated_df['extra_hub']=='Marseille')]['cost'].values[0]\n",
    "original_cost = normalized_cost*(df_cities['co2_per_unit'].max() - df_cities['co2_per_unit'].min()) + df_cities['co2_per_unit'].min()\n",
    "print(f\"co2 EMISSION with Marseille hub {original_cost:_.1f}\")"
   ]
  },
  {
   "cell_type": "code",
   "execution_count": 39,
   "metadata": {},
   "outputs": [],
   "source": [
    "matrices0 = generate_matrices(0)\n",
    "matrices1 = generate_matrices(1)"
   ]
  },
  {
   "cell_type": "code",
   "execution_count": 40,
   "metadata": {},
   "outputs": [
    {
     "name": "stdout",
     "output_type": "stream",
     "text": [
      "(0, 241166.73943432677, 'Marseille')\n"
     ]
    }
   ],
   "source": [
    "pv0 = ponderate_vector(matrices0, F, 0)\n",
    "pv1 = ponderate_vector(matrices1, F, 1)\n",
    "print(pv0[3])"
   ]
  },
  {
   "cell_type": "code",
   "execution_count": 41,
   "metadata": {},
   "outputs": [
    {
     "name": "stdout",
     "output_type": "stream",
     "text": [
      "COST without adding hubs: 340_613_818.2\n",
      "COST with Amsterdam hub: 327_413_735.4\n",
      "EMISSIONS without adding hubs: 578_136_244.7\n",
      "EMISSIONS with Amsterdam hub: 566_732_476.3\n"
     ]
    }
   ],
   "source": [
    "normalized_cost = pv0[0][1]\n",
    "original_cost = normalized_cost*(df_cities['cost_per_unit'].max() - df_cities['cost_per_unit'].min()) + df_cities['cost_per_unit'].min()\n",
    "print(f\"COST without adding hubs: {original_cost:_.1f}\")\n",
    "normalized_cost = pv0[10][1]\n",
    "original_cost = normalized_cost*(df_cities['cost_per_unit'].max() - df_cities['cost_per_unit'].min()) + df_cities['cost_per_unit'].min()\n",
    "print(f\"COST with Amsterdam hub: {original_cost:_.1f}\")\n",
    "\n",
    "normalized_cost = pv1[0][1]\n",
    "original_cost = normalized_cost*(df_cities['co2_per_unit'].max() - df_cities['co2_per_unit'].min()) + df_cities['co2_per_unit'].min()\n",
    "print(f\"EMISSIONS without adding hubs: {original_cost:_.1f}\")\n",
    "normalized_cost = pv1[3][1]\n",
    "original_cost = normalized_cost*(df_cities['co2_per_unit'].max() - df_cities['co2_per_unit'].min()) + df_cities['co2_per_unit'].min()\n",
    "print(f\"EMISSIONS with Amsterdam hub: {original_cost:_.1f}\")"
   ]
  },
  {
   "cell_type": "markdown",
   "metadata": {},
   "source": [
    "Visualización Gráfica del Grafo"
   ]
  },
  {
   "cell_type": "code",
   "execution_count": 77,
   "metadata": {},
   "outputs": [
    {
     "name": "stdout",
     "output_type": "stream",
     "text": [
      "dict_keys(['Dusseldorf', 'Zaragoza', 'Venlo', 'Bratislava', 'Hamburg', 'Rome', 'Lille', 'Liege', 'Warsaw', 'Paris', 'Lyon', 'Marseille', 'Bordeaux', 'Milan', 'Berlin', 'Madrid', 'Vienna', 'Munich', 'Amsterdam', 'Stockholm', 'Copenhagen', 'Barcelona', 'Cologne', 'Athens', 'Bucharest', 'Budapest', 'Naples', 'Lisbon', 'Turin', 'Hanover', 'Malmö', 'Helsinki', 'Prague', 'Valencia', 'Bremen', 'Porto', 'Rotterdam'])\n"
     ]
    }
   ],
   "source": [
    "df_cities = pd.read_csv('data\\cities_data_costs.csv')\n",
    "df_cities.head()\n",
    "city_coords = {}\n",
    "for i, x in df_cities.iterrows():\n",
    "    temp = x['city_from_coord'].replace('(','').replace(')','').split(',')\n",
    "    city_coords[x['city_from_name']] = (float(temp[1]), float(temp[0]))\n",
    "    temp = x['city_to_coord'].replace('(','').replace(')','').split(',')\n",
    "    city_coords[x['city_to_name']] = (float(temp[1]), float(temp[0]))\n",
    "print(city_coords.keys())"
   ]
  },
  {
   "cell_type": "code",
   "execution_count": 175,
   "metadata": {},
   "outputs": [
    {
     "name": "stdout",
     "output_type": "stream",
     "text": [
      "[[0.         0.         0.         0.         0.         0.13098329\n",
      "  0.         0.         0.         0.22257829 0.17714587 0.12996917\n",
      "  0.0511926  0.33311699 0.33753854 0.31064417 0.24071069 0.20894856\n",
      "  0.17840337 0.17264319 0.16915463 0.1415301  0.14027259 0.12104495\n",
      "  0.11763751 0.08802531 0.09528639 0.06563362 0.07050138 0.0774785\n",
      "  0.07549083 0.05131429 0.05224728 0.05703391 0.05220672 0.        ]\n",
      " [0.         0.         0.         0.         0.         0.38382281\n",
      "  0.         0.         0.         0.68148629 0.50847801 0.40463248\n",
      "  0.17394126 0.99882362 1.         0.94158689 0.72274055 0.63698686\n",
      "  0.57463897 0.49886419 0.51582022 0.45817784 0.41254259 0.32873601\n",
      "  0.34139218 0.27782736 0.27072854 0.22237547 0.22387636 0.22525556\n",
      "  0.21552004 0.15958137 0.17211585 0.17909297 0.1683839  0.        ]\n",
      " [0.         0.         0.         0.         0.         0.17807886\n",
      "  0.         0.         0.         0.29287685 0.2042025  0.17146682\n",
      "  0.06766185 0.41736979 0.44296609 0.42166964 0.31920331 0.25738277\n",
      "  0.23438261 0.21742658 0.20598734 0.18144572 0.16578777 0.13779815\n",
      "  0.14733085 0.12096382 0.11240467 0.08936395 0.0922846  0.10084374\n",
      "  0.08660555 0.0767889  0.07447672 0.07115041 0.07033912 0.        ]]\n"
     ]
    }
   ],
   "source": [
    "freq = np.zeros((len(PORTS), len(CITIES)))\n",
    "for w in range(10):\n",
    "    freq += F[w]\n",
    "freq /= np.amax(freq)\n",
    "print(freq)"
   ]
  },
  {
   "cell_type": "markdown",
   "metadata": {},
   "source": [
    "HUB: AMSTERDAM"
   ]
  },
  {
   "cell_type": "code",
   "execution_count": 197,
   "metadata": {},
   "outputs": [],
   "source": [
    "PORTS = ['Barcelona', 'Rotterdam', 'Athens']\n",
    "HUBS = ['Hamburg', 'Lille', 'Warsaw', 'Zaragoza', 'Bratislava', 'Dusseldorf', 'Liege', 'Venlo', 'Rome']\n",
    "CITIES  = df_cities['city_from_name'].unique()\n",
    "PORTS = ['p-'+p for p in PORTS]\n",
    "HUBS = ['h-'+h for h in HUBS]\n",
    "CITIES = ['c-'+c for c in CITIES]\n",
    "\n",
    "HUBS.append('h-Amsterdam')\n",
    "\n",
    "G_tri = nx.Graph()\n",
    "for x in CITIES + PORTS + HUBS:\n",
    "    G_tri.add_node(x, pos=city_coords[x[2:]], type= x[:1])\n",
    "\n",
    "WEIGHT = 5\n",
    "alpha = 0\n",
    "df_cities_weight = df_norm.iloc[WEIGHT::10,:]\n",
    "cost = [get_cost(df_cities_weight['co2_per_unit'].iloc[i], df_cities_weight['cost_per_unit'].iloc[i], alpha) for i in range(len(df_cities_weight))]\n",
    "df_cities_weight['cost'] = cost\n",
    "declare_costs_graph(G_tri, PORTS, HUBS, CITIES, df_cities_weight)\n",
    "\n",
    "# create graph\n",
    "G = nx.Graph()\n",
    "for x in CITIES + PORTS + HUBS:\n",
    "    G.add_node(x, pos=city_coords[x[2:]], type= x[:1])\n",
    "\n",
    "for p in PORTS:\n",
    "    for h in HUBS:\n",
    "        for c in CITIES:\n",
    "            G.add_edge(p, h, pes = 0.0)\n",
    "            G.add_edge(h, c, pes = 0.0)\n",
    "\n",
    "for i, p in enumerate(PORTS):\n",
    "        for j, c in enumerate(CITIES):\n",
    "            h = nx.dijkstra_path(G_tri, p, c, weight='cost')[1]\n",
    "            G[p][h]['pes'] +=  freq[i][j]\n",
    "            G[h][c]['pes'] += freq[i][j]"
   ]
  },
  {
   "cell_type": "code",
   "execution_count": 198,
   "metadata": {},
   "outputs": [],
   "source": [
    "SIZE_X = 2000\n",
    "SIZE_Y = 2000\n",
    "PADDING = 10\n",
    "\n",
    "map= StaticMap(\n",
    "    SIZE_X, SIZE_Y, padding_x=PADDING, padding_y=PADDING,)\n",
    "\n",
    "# we iterate through the edges\n",
    "for node1, node2, data in G.edges(data=True):\n",
    "    # we get the coordinates of the nodes\n",
    "    x1, y1 = G.nodes[node1]['pos']\n",
    "    x2, y2 = G.nodes[node2]['pos']\n",
    "    color = '#d64747' if 'h-Amsterdam' in [node1, node2] else '#666463'\n",
    "    if ['p-Rotterdam','h-Amsterdam'] == [node1, node2]:\n",
    "        map.add_line(Line(((x1, y1), (x2, y2)), color, int(data['pes']*7)))\n",
    "    else:\n",
    "        map.add_line(Line(((x1, y1), (x2, y2)), color, int(data['pes']*10)))\n",
    "color_type = {'p':'#003785', 'h':'#851d1d', 'c':'#377d34'}\n",
    "size_type = {'p':25, 'h':15, 'c':12}\n",
    "\n",
    "for u, d in G.nodes(data=True):\n",
    "    if (u == 'h-Amsterdam'):\n",
    "        map.add_marker(CircleMarker(d['pos'], \"#4f0a0a\", 25))\n",
    "    else:\n",
    "        map.add_marker(CircleMarker(d['pos'], color_type[d['type']], size_type[d['type']]))\n",
    "\n",
    "image = map.render()\n",
    "image.save('data/Amsterdam-hub.png')"
   ]
  },
  {
   "cell_type": "markdown",
   "metadata": {},
   "source": [
    "HUB: MARSEILLE:"
   ]
  },
  {
   "cell_type": "code",
   "execution_count": 210,
   "metadata": {},
   "outputs": [],
   "source": [
    "PORTS = ['Barcelona', 'Rotterdam', 'Athens']\n",
    "HUBS = ['Hamburg', 'Lille', 'Warsaw', 'Zaragoza', 'Bratislava', 'Dusseldorf', 'Liege', 'Venlo', 'Rome']\n",
    "CITIES  = df_cities['city_from_name'].unique()\n",
    "PORTS = ['p-'+p for p in PORTS]\n",
    "HUBS = ['h-'+h for h in HUBS]\n",
    "CITIES = ['c-'+c for c in CITIES]\n",
    "\n",
    "HUBS.append('h-Marseille')\n",
    "\n",
    "G_tri = nx.Graph()\n",
    "for x in CITIES + PORTS + HUBS:\n",
    "    G_tri.add_node(x, pos=city_coords[x[2:]], type= x[:1])\n",
    "\n",
    "WEIGHT = 5\n",
    "alpha = 1\n",
    "df_cities_weight = df_norm.iloc[WEIGHT::10,:]\n",
    "cost = [get_cost(df_cities_weight['co2_per_unit'].iloc[i], df_cities_weight['cost_per_unit'].iloc[i], alpha) for i in range(len(df_cities_weight))]\n",
    "df_cities_weight['cost'] = cost\n",
    "declare_costs_graph(G_tri, PORTS, HUBS, CITIES, df_cities_weight)\n",
    "\n",
    "# create graph\n",
    "G = nx.Graph()\n",
    "for x in CITIES + PORTS + HUBS:\n",
    "    G.add_node(x, pos=city_coords[x[2:]], type= x[:1])\n",
    "    \n",
    "for p in PORTS:\n",
    "    for h in HUBS:\n",
    "        for c in CITIES:\n",
    "            G.add_edge(p, h, pes = 0.0)\n",
    "            G.add_edge(h, c, pes = 0.0)\n",
    "\n",
    "for i, p in enumerate(PORTS):\n",
    "        for j, c in enumerate(CITIES):\n",
    "            h = nx.dijkstra_path(G_tri, p, c, weight='cost')[1]\n",
    "            G[p][h]['pes'] +=  freq[i][j]\n",
    "            G[h][c]['pes'] += freq[i][j]"
   ]
  },
  {
   "cell_type": "code",
   "execution_count": 211,
   "metadata": {},
   "outputs": [],
   "source": [
    "SIZE_X = 2000\n",
    "SIZE_Y = 2000\n",
    "PADDING = 10\n",
    "\n",
    "map= StaticMap(\n",
    "    SIZE_X, SIZE_Y, padding_x=PADDING, padding_y=PADDING,)\n",
    "\n",
    "# we iterate through the edges\n",
    "for node1, node2, data in G.edges(data=True):\n",
    "    # we get the coordinates of the nodes\n",
    "    x1, y1 = G.nodes[node1]['pos']\n",
    "    x2, y2 = G.nodes[node2]['pos']\n",
    "    color = '#d64747' if 'h-Marseille' in [node1, node2] else '#666463'\n",
    "    map.add_line(Line(((x1, y1), (x2, y2)), color, int(data['pes']*10)))\n",
    "color_type = {'p':'#003785', 'h':'#851d1d', 'c':'#377d34'}\n",
    "size_type = {'p':25, 'h':15, 'c':12}\n",
    "\n",
    "for u, d in G.nodes(data=True):\n",
    "    if (u == 'h-Marseille'):\n",
    "        map.add_marker(CircleMarker(d['pos'], \"#4f0a0a\", 25))\n",
    "    else:\n",
    "        map.add_marker(CircleMarker(d['pos'], color_type[d['type']], size_type[d['type']]))\n",
    "\n",
    "image = map.render()\n",
    "image.save('data/Marseille-hub.png')"
   ]
  },
  {
   "cell_type": "markdown",
   "metadata": {},
   "source": [
    "NO EXTRA HUBS:"
   ]
  },
  {
   "cell_type": "code",
   "execution_count": 212,
   "metadata": {},
   "outputs": [],
   "source": [
    "PORTS = ['Barcelona', 'Rotterdam', 'Athens']\n",
    "HUBS = ['Hamburg', 'Lille', 'Warsaw', 'Zaragoza', 'Bratislava', 'Dusseldorf', 'Liege', 'Venlo', 'Rome']\n",
    "CITIES  = df_cities['city_from_name'].unique()\n",
    "PORTS = ['p-'+p for p in PORTS]\n",
    "HUBS = ['h-'+h for h in HUBS]\n",
    "CITIES = ['c-'+c for c in CITIES]\n",
    "\n",
    "G_tri = nx.Graph()\n",
    "for x in CITIES + PORTS + HUBS:\n",
    "    G_tri.add_node(x, pos=city_coords[x[2:]], type= x[:1])\n",
    "\n",
    "WEIGHT = 5\n",
    "alpha = 1\n",
    "df_cities_weight = df_norm.iloc[WEIGHT::10,:]\n",
    "cost = [get_cost(df_cities_weight['co2_per_unit'].iloc[i], df_cities_weight['cost_per_unit'].iloc[i], alpha) for i in range(len(df_cities_weight))]\n",
    "df_cities_weight['cost'] = cost\n",
    "declare_costs_graph(G_tri, PORTS, HUBS, CITIES, df_cities_weight)\n",
    "\n",
    "# create graph\n",
    "G = nx.Graph()\n",
    "for x in CITIES + PORTS + HUBS:\n",
    "    G.add_node(x, pos=city_coords[x[2:]], type= x[:1])\n",
    "\n",
    "for p in PORTS:\n",
    "    for h in HUBS:\n",
    "        for c in CITIES:\n",
    "            G.add_edge(p, h, pes = 0.0)\n",
    "            G.add_edge(h, c, pes = 0.0)\n",
    "\n",
    "for i, p in enumerate(PORTS):\n",
    "        for j, c in enumerate(CITIES):\n",
    "            h = nx.dijkstra_path(G_tri, p, c, weight='cost')[1]\n",
    "            G[p][h]['pes'] += freq[i][j]\n",
    "            G[h][c]['pes'] += freq[i][j]"
   ]
  },
  {
   "cell_type": "code",
   "execution_count": 213,
   "metadata": {},
   "outputs": [],
   "source": [
    "SIZE_X = 2000\n",
    "SIZE_Y = 2000\n",
    "PADDING = 10\n",
    "\n",
    "map= StaticMap(\n",
    "    SIZE_X, SIZE_Y, padding_x=PADDING, padding_y=PADDING,)\n",
    "\n",
    "# we iterate through the edges\n",
    "for node1, node2, data in G.edges(data=True):\n",
    "    # we get the coordinates of the nodes\n",
    "    x1, y1 = G.nodes[node1]['pos']\n",
    "    x2, y2 = G.nodes[node2]['pos']\n",
    "    color = '#d64747' if 'h-Amsterdam' in [node1, node2] else '#666463'\n",
    "    map.add_line(Line(((x1, y1), (x2, y2)), color, int(data['pes']*10)))\n",
    "color_type = {'p':'#003785', 'h':'#851d1d', 'c':'#377d34'}\n",
    "size_type = {'p':25, 'h':15, 'c':12}\n",
    "\n",
    "for u, d in G.nodes(data=True):\n",
    "    map.add_marker(CircleMarker(d['pos'], color_type[d['type']], size_type[d['type']]))\n",
    "\n",
    "image = map.render()\n",
    "image.save(f'data/No-extra-hub-alpha{alpha}.png')"
   ]
  }
 ],
 "metadata": {
  "kernelspec": {
   "display_name": "Python 3.10.3 64-bit",
   "language": "python",
   "name": "python3"
  },
  "language_info": {
   "codemirror_mode": {
    "name": "ipython",
    "version": 3
   },
   "file_extension": ".py",
   "mimetype": "text/x-python",
   "name": "python",
   "nbconvert_exporter": "python",
   "pygments_lexer": "ipython3",
   "version": "3.10.3"
  },
  "orig_nbformat": 4,
  "vscode": {
   "interpreter": {
    "hash": "b98a2b09b9de8fffaa69dfd080b74c478acb0275cece3c1d796f26473ec875b6"
   }
  }
 },
 "nbformat": 4,
 "nbformat_minor": 2
}
