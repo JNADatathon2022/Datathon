{
 "cells": [
  {
   "cell_type": "code",
   "execution_count": 141,
   "metadata": {},
   "outputs": [],
   "source": [
    "import networkx as nx\n",
    "import matplotlib.pyplot as plt\n",
    "import numpy as np\n",
    "import pandas as pd\n",
    "import seaborn as sns\n",
    "from pprint import *\n",
    "import warnings\n",
    "warnings.filterwarnings('ignore')"
   ]
  },
  {
   "cell_type": "code",
   "execution_count": 175,
   "metadata": {},
   "outputs": [],
   "source": [
    "#======TEMP======#\n",
    "df_orders = pd.read_csv('data\\orders.csv', sep=';')"
   ]
  },
  {
   "cell_type": "code",
   "execution_count": 144,
   "metadata": {},
   "outputs": [],
   "source": [
    "ALPHA = 0 # 0 para reducir coste, 1 para reducir emisiones"
   ]
  },
  {
   "cell_type": "code",
   "execution_count": 145,
   "metadata": {},
   "outputs": [],
   "source": [
    "# import data from csv file\n",
    "df_cities = pd.read_csv('data\\cities_data_costs.csv')\n",
    "norm_par = ['co2_per_unit', 'cost_per_unit']\n",
    "df_norm = df_cities\n",
    "for par in norm_par:\n",
    "    df_norm[par] = (df_cities[par]-df_cities[par].min())/(df_cities[par].max()-df_cities[par].min())"
   ]
  },
  {
   "cell_type": "code",
   "execution_count": 146,
   "metadata": {},
   "outputs": [],
   "source": [
    "def get_cost(emissions, cost):\n",
    "    return ALPHA*emissions + (1-ALPHA)*cost"
   ]
  },
  {
   "cell_type": "code",
   "execution_count": 147,
   "metadata": {},
   "outputs": [],
   "source": [
    "def get_cost_path(city_orig, city_dest, df_func):\n",
    "    if(city_orig[2:] == city_dest[2:]):\n",
    "        return 0\n",
    "    pes = df_func[(df_func['city_from_name']==city_orig[2:]) & (df_func['city_to_name']==city_dest[2:])]\n",
    "    if pes.empty:\n",
    "        pes = df_func[(df_func['city_from_name']==city_dest[2:]) & (df_func['city_to_name']==city_orig[2:])]\n",
    "    return pes['cost'].values[0]"
   ]
  },
  {
   "cell_type": "code",
   "execution_count": 148,
   "metadata": {},
   "outputs": [],
   "source": [
    "def declare_costs_graph(G, ports, hubs, cities, df_func):\n",
    "    for p in ports:\n",
    "        for h in hubs:\n",
    "            pes = get_cost_path(p, h, df_func)\n",
    "            G.add_edge(p, h, cost=pes)\n",
    "    for h in hubs:\n",
    "        for c in cities:\n",
    "            pes = get_cost_path(c, h, df_func)\n",
    "            G.add_edge(h, c, cost=pes)"
   ]
  },
  {
   "cell_type": "code",
   "execution_count": 149,
   "metadata": {},
   "outputs": [],
   "source": [
    "# Matrix that stores the cost of minimum path of: [port][customer][extra hub]\n",
    "# extra_hub = 0 -> no extra hub, extra_hub -> extra hub - 1\n",
    "def get_min_cost_matrix(G, ports, cities, df_func):\n",
    "    M = np.zeros((len(ports), len(cities), len(cities)+1))\n",
    "    for p in range(len(ports)):\n",
    "        for c in range(len(cities)):\n",
    "            M[p, c, 0] = nx.dijkstra_path_length(G, ports[p], cities[c], weight='cost')\n",
    "\n",
    "    for p in range(len(ports)):\n",
    "        for c in range(len(cities)):\n",
    "            for h in range(1, len(cities)+1):\n",
    "                new_path = get_cost_path(ports[p], cities[h-1], df_func) + get_cost_path(cities[h-1], cities[c], df_func)\n",
    "                M[p, c, h] = min(M[p, c, 0], new_path)\n",
    "    return M"
   ]
  },
  {
   "cell_type": "code",
   "execution_count": 150,
   "metadata": {},
   "outputs": [
    {
     "name": "stdout",
     "output_type": "stream",
     "text": [
      "['Dusseldorf' 'Zaragoza' 'Venlo' 'Bratislava' 'Hamburg' 'Rome' 'Lille'\n",
      " 'Liege' 'Warsaw' 'Paris' 'Lyon' 'Marseille' 'Bordeaux' 'Milan' 'Berlin'\n",
      " 'Madrid' 'Vienna' 'Munich' 'Amsterdam' 'Stockholm' 'Copenhagen'\n",
      " 'Barcelona' 'Cologne' 'Athens' 'Bucharest' 'Budapest' 'Naples' 'Lisbon'\n",
      " 'Turin' 'Hanover' 'Malmö' 'Helsinki' 'Prague' 'Valencia' 'Bremen'\n",
      " 'Rotterdam']\n"
     ]
    },
    {
     "data": {
      "image/png": "[encoded data removed]",
      "text/plain": [
       "<Figure size 640x480 with 1 Axes>"
      ]
     },
     "metadata": {},
     "output_type": "display_data"
    }
   ],
   "source": [
    "PORTS = ['Barcelona', 'Rotterdam', 'Athens']\n",
    "HUBS = ['Hamburg', 'Lille', 'Warsaw', 'Zaragoza', 'Bratislava', 'Dusseldorf', 'Liege', 'Venlo', 'Rome']\n",
    "CITIES  = df_cities['city_from_name'].unique()\n",
    "print(CITIES)\n",
    "PORTS = ['p-'+p for p in PORTS]\n",
    "HUBS = ['h-'+h for h in HUBS]\n",
    "CITIES = ['c-'+c for c in CITIES]\n",
    "\n",
    "# create graph\n",
    "G = nx.Graph()\n",
    "for x in PORTS + HUBS + CITIES:\n",
    "    G.add_node(x, bipartite= ['p-', 'h-', 'c-'].index(x[:2]))\n",
    "\n",
    "\n",
    "nodes = G.nodes()\n",
    "# for each of the parts create a set \n",
    "nodes_0  = set([n for n in nodes if  G.nodes[n]['bipartite']==0])\n",
    "nodes_1  = set([n for n in nodes if  G.nodes[n]['bipartite']==1])\n",
    "nodes_2  = set([n for n in nodes if  G.nodes[n]['bipartite']==2])\n",
    "\n",
    "# set the location of the nodes for each set\n",
    "pos = dict()\n",
    "pos.update( (n, (1, i)) for i, n in enumerate(nodes_0) ) # put nodes from X at x=1\n",
    "pos.update( (n, (2, i)) for i, n in enumerate(nodes_1) ) # put nodes from Y at x=2\n",
    "pos.update( (n, (3, i)) for i, n in enumerate(nodes_2) ) # put nodes from X at x=1\n",
    "# draw graph\n",
    "nx.draw(G, pos=pos)\n"
   ]
  },
  {
   "cell_type": "code",
   "execution_count": 151,
   "metadata": {},
   "outputs": [],
   "source": [
    "matrixs = [] # list of matrixs for each weight class\n",
    "for weight in range(10):\n",
    "    df_cities_weight = df_norm.iloc[weight::10,:]\n",
    "    cost = [get_cost(df_cities_weight['co2_per_unit'].iloc[i], df_cities_weight['cost_per_unit'].iloc[i]) for i in range(len(df_cities_weight))]\n",
    "    df_cities_weight['cost'] = cost\n",
    "    df_cities_weight = df_cities_weight.drop(columns=['co2_per_unit', 'cost_per_unit', 'city_from_coord', 'city_to_coord', 'weight_class', 'distance'])\n",
    "    declare_costs_graph(G, PORTS, HUBS, CITIES, df_cities_weight)\n",
    "    M = get_min_cost_matrix(G, PORTS, CITIES, df_cities_weight)\n",
    "    matrixs.append(M)"
   ]
  },
  {
   "cell_type": "code",
   "execution_count": 152,
   "metadata": {},
   "outputs": [],
   "source": [
    "def get_freq_matrix(df_func):\n",
    "    # Matrix that stores the frequency of  path: [weight][port][customer]\n",
    "    F = np.zeros((10, len(PORTS), len(CITIES)))\n",
    "    for w in range(10):\n",
    "        for p in range(len(PORTS)):\n",
    "            for c in range(len(CITIES)):\n",
    "                F[w, p, c] = np.sum(df_func.loc[(df_func['weight_class']==w) & (df_func['origin_port']==PORTS[p][2:]) & (df_func['customer']==CITIES[c][2:])]['units'].values)\n",
    "    return F"
   ]
  },
  {
   "cell_type": "code",
   "execution_count": 153,
   "metadata": {},
   "outputs": [],
   "source": [
    "df_orders = pd.read_csv('data\\dataframefinal.csv')\n",
    "F = get_freq_matrix(df_orders)"
   ]
  },
  {
   "cell_type": "code",
   "execution_count": 154,
   "metadata": {},
   "outputs": [],
   "source": [
    "# we ponderate the vector with the calclated frequencies\n",
    "Pond_vect = []\n",
    "for extra_h in range(len(CITIES)+1):\n",
    "    sum = 0\n",
    "    for w in range(10):\n",
    "        for p in range(len(PORTS)):\n",
    "            for c in range(len(CITIES)):\n",
    "                sum += F[w, p, c]*matrixs[w][p, c, extra_h]\n",
    "    if not CITIES[extra_h-1][2:] in [h[2:] for h in HUBS]:\n",
    "        Pond_vect.append((ALPHA, sum, CITIES[extra_h-1][2:] if extra_h > 0 else 'AAAA None'))"
   ]
  },
  {
   "cell_type": "code",
   "execution_count": 155,
   "metadata": {},
   "outputs": [
    {
     "name": "stdout",
     "output_type": "stream",
     "text": [
      "[(0, 225764.25289601827, 'Athens'),\n",
      " (0, 228337.2760207513, 'Rotterdam'),\n",
      " (0, 231804.44177212464, 'Barcelona'),\n",
      " (0, 236900.958359562, 'Amsterdam'),\n",
      " (0, 240749.2943266259, 'Milan'),\n",
      " (0, 241166.73943432677, 'Marseille'),\n",
      " (0, 242068.53792499646, 'Berlin'),\n",
      " (0, 242588.37555261303, 'Turin'),\n",
      " (0, 242702.30574428214, 'Lyon'),\n",
      " (0, 242778.138748399, 'Madrid'),\n",
      " (0, 243236.98782984936, 'Bucharest'),\n",
      " (0, 243385.5309644229, 'Copenhagen'),\n",
      " (0, 243565.46508498117, 'Malmö'),\n",
      " (0, 243596.37521254338, 'Munich'),\n",
      " (0, 243610.84897291736, 'Stockholm'),\n",
      " (0, 244005.7810458225, 'Paris'),\n",
      " (0, 244994.1511500863, 'Naples'),\n",
      " (0, 245070.80754230972, 'Vienna'),\n",
      " (0, 245210.52985015223, 'Prague'),\n",
      " (0, 245239.40148472917, 'Budapest'),\n",
      " (0, 245355.3556983365, 'Lisbon'),\n",
      " (0, 245485.00461626393, 'Hanover'),\n",
      " (0, 245525.42517383336, 'Helsinki'),\n",
      " (0, 245577.85055749697, 'Bordeaux'),\n",
      " (0, 245631.19064880928, 'Valencia'),\n",
      " (0, 245900.2012850289, 'Bremen'),\n",
      " (0, 246289.82161540285, 'Cologne'),\n",
      " (0, 246451.90928100594, 'AAAA None')]\n"
     ]
    }
   ],
   "source": [
    "def sort_and_save(Pond_vect):\n",
    "    Pond_vect.sort()\n",
    "    df = pd.DataFrame(Pond_vect, columns=['alpha', 'cost', 'extra_hub'])\n",
    "    existing_df = pd.read_csv('data/results_alpha.csv')\n",
    "    if not ALPHA in existing_df['alpha'].unique():\n",
    "        df.to_csv('data/results_alpha.csv', mode='a', index=False, header=False)\n",
    "sort_and_save(Pond_vect)\n",
    "pprint(Pond_vect)"
   ]
  },
  {
   "cell_type": "code",
   "execution_count": 156,
   "metadata": {},
   "outputs": [
    {
     "data": {
      "image/png": "[encoded data removed]",
      "text/plain": [
       "<Figure size 640x480 with 1 Axes>"
      ]
     },
     "metadata": {},
     "output_type": "display_data"
    }
   ],
   "source": [
    "# histogram  of pond_vect\n",
    "plt.bar([x[2] for x in Pond_vect], [x[1] for x in Pond_vect])\n",
    "plt.xticks(rotation=90)\n",
    "offset = 500\n",
    "plt.ylim(Pond_vect[0][1] - offset, Pond_vect[-1][1] + offset)\n",
    "plt.show()"
   ]
  },
  {
   "cell_type": "code",
   "execution_count": 169,
   "metadata": {},
   "outputs": [],
   "source": [
    "def better_extra_hub(alpha, port = False):\n",
    "    '''returns the better extra hub for a given alpha'''\n",
    "    df = pd.read_csv('data/results_alpha.csv')\n",
    "    df = df.loc[df['alpha']==alpha]\n",
    "    for i, x in df.iterrows():\n",
    "        if port:\n",
    "            return x['extra_hub']\n",
    "        else:\n",
    "            if not x['extra_hub'] in [p[2:] for p in PORTS]:\n",
    "                return x['extra_hub']\n",
    "\n",
    "def saved_with_hub(extra_hub):\n",
    "    # returns the saved cost and emissions with the extra placed hub\n",
    "    s_cost = 0\n",
    "    s_emissions = 0\n",
    "    for w in range(10):\n",
    "        df_cities_weight = df_norm.iloc[weight::10,:]\n",
    "        for p in range(len(PORTS)):\n",
    "            for h in range(len(HUBS)):\n",
    "                for c in range(len(CITIES)):\n",
    "                    "
   ]
  },
  {
   "cell_type": "code",
   "execution_count": 174,
   "metadata": {},
   "outputs": [
    {
     "name": "stdout",
     "output_type": "stream",
     "text": [
      "Marseille\n"
     ]
    }
   ],
   "source": [
    "best = better_extra_hub(1)\n",
    "print(best)"
   ]
  }
 ],
 "metadata": {
  "kernelspec": {
   "display_name": "Python 3.10.3 64-bit",
   "language": "python",
   "name": "python3"
  },
  "language_info": {
   "codemirror_mode": {
    "name": "ipython",
    "version": 3
   },
   "file_extension": ".py",
   "mimetype": "text/x-python",
   "name": "python",
   "nbconvert_exporter": "python",
   "pygments_lexer": "ipython3",
   "version": "3.10.3"
  },
  "orig_nbformat": 4,
  "vscode": {
   "interpreter": {
    "hash": "b98a2b09b9de8fffaa69dfd080b74c478acb0275cece3c1d796f26473ec875b6"
   }
  }
 },
 "nbformat": 4,
 "nbformat_minor": 2
}
