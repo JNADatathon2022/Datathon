{
 "cells": [
  {
   "cell_type": "code",
   "execution_count": 228,
   "metadata": {},
   "outputs": [],
   "source": [
    "import networkx as nx\n",
    "import matplotlib.pyplot as plt\n",
    "import numpy as np\n",
    "import pandas as pd\n",
    "import seaborn as sns\n",
    "from pprint import *\n",
    "import warnings\n",
    "warnings.filterwarnings('ignore')"
   ]
  },
  {
   "cell_type": "code",
   "execution_count": 229,
   "metadata": {},
   "outputs": [],
   "source": [
    "#======we import the orders======#\n",
    "df_orders = pd.read_csv('data\\orders.csv', sep=';')"
   ]
  },
  {
   "cell_type": "code",
   "execution_count": 268,
   "metadata": {},
   "outputs": [
    {
     "data": {
      "text/html": [
       "<div>\n",
       "<style scoped>\n",
       "    .dataframe tbody tr th:only-of-type {\n",
       "        vertical-align: middle;\n",
       "    }\n",
       "\n",
       "    .dataframe tbody tr th {\n",
       "        vertical-align: top;\n",
       "    }\n",
       "\n",
       "    .dataframe thead th {\n",
       "        text-align: right;\n",
       "    }\n",
       "</style>\n",
       "<table border=\"1\" class=\"dataframe\">\n",
       "  <thead>\n",
       "    <tr style=\"text-align: right;\">\n",
       "      <th></th>\n",
       "      <th>city_from_name</th>\n",
       "      <th>city_to_name</th>\n",
       "      <th>city_from_coord</th>\n",
       "      <th>city_to_coord</th>\n",
       "      <th>distance</th>\n",
       "      <th>weight_class</th>\n",
       "      <th>cost_per_unit</th>\n",
       "      <th>co2_per_unit</th>\n",
       "    </tr>\n",
       "  </thead>\n",
       "  <tbody>\n",
       "    <tr>\n",
       "      <th>0</th>\n",
       "      <td>Dusseldorf</td>\n",
       "      <td>Zaragoza</td>\n",
       "      <td>(51.2254018, 6.7763137)</td>\n",
       "      <td>(41.6521342, -0.8809428)</td>\n",
       "      <td>1214.4772</td>\n",
       "      <td>0</td>\n",
       "      <td>429.76</td>\n",
       "      <td>819.77</td>\n",
       "    </tr>\n",
       "    <tr>\n",
       "      <th>1</th>\n",
       "      <td>Dusseldorf</td>\n",
       "      <td>Zaragoza</td>\n",
       "      <td>(51.2254018, 6.7763137)</td>\n",
       "      <td>(41.6521342, -0.8809428)</td>\n",
       "      <td>1214.4772</td>\n",
       "      <td>1</td>\n",
       "      <td>472.74</td>\n",
       "      <td>901.75</td>\n",
       "    </tr>\n",
       "    <tr>\n",
       "      <th>2</th>\n",
       "      <td>Dusseldorf</td>\n",
       "      <td>Zaragoza</td>\n",
       "      <td>(51.2254018, 6.7763137)</td>\n",
       "      <td>(41.6521342, -0.8809428)</td>\n",
       "      <td>1214.4772</td>\n",
       "      <td>2</td>\n",
       "      <td>515.71</td>\n",
       "      <td>983.73</td>\n",
       "    </tr>\n",
       "    <tr>\n",
       "      <th>3</th>\n",
       "      <td>Dusseldorf</td>\n",
       "      <td>Zaragoza</td>\n",
       "      <td>(51.2254018, 6.7763137)</td>\n",
       "      <td>(41.6521342, -0.8809428)</td>\n",
       "      <td>1214.4772</td>\n",
       "      <td>3</td>\n",
       "      <td>558.69</td>\n",
       "      <td>1065.70</td>\n",
       "    </tr>\n",
       "    <tr>\n",
       "      <th>4</th>\n",
       "      <td>Dusseldorf</td>\n",
       "      <td>Zaragoza</td>\n",
       "      <td>(51.2254018, 6.7763137)</td>\n",
       "      <td>(41.6521342, -0.8809428)</td>\n",
       "      <td>1214.4772</td>\n",
       "      <td>4</td>\n",
       "      <td>601.66</td>\n",
       "      <td>1147.68</td>\n",
       "    </tr>\n",
       "  </tbody>\n",
       "</table>\n",
       "</div>"
      ],
      "text/plain": [
       "  city_from_name city_to_name          city_from_coord  \\\n",
       "0     Dusseldorf     Zaragoza  (51.2254018, 6.7763137)   \n",
       "1     Dusseldorf     Zaragoza  (51.2254018, 6.7763137)   \n",
       "2     Dusseldorf     Zaragoza  (51.2254018, 6.7763137)   \n",
       "3     Dusseldorf     Zaragoza  (51.2254018, 6.7763137)   \n",
       "4     Dusseldorf     Zaragoza  (51.2254018, 6.7763137)   \n",
       "\n",
       "              city_to_coord   distance  weight_class  cost_per_unit  \\\n",
       "0  (41.6521342, -0.8809428)  1214.4772             0         429.76   \n",
       "1  (41.6521342, -0.8809428)  1214.4772             1         472.74   \n",
       "2  (41.6521342, -0.8809428)  1214.4772             2         515.71   \n",
       "3  (41.6521342, -0.8809428)  1214.4772             3         558.69   \n",
       "4  (41.6521342, -0.8809428)  1214.4772             4         601.66   \n",
       "\n",
       "   co2_per_unit  \n",
       "0        819.77  \n",
       "1        901.75  \n",
       "2        983.73  \n",
       "3       1065.70  \n",
       "4       1147.68  "
      ]
     },
     "execution_count": 268,
     "metadata": {},
     "output_type": "execute_result"
    }
   ],
   "source": [
    "# import data from csv file\n",
    "df_cities = pd.read_csv('data\\cities_data_costs.csv')\n",
    "norm_par = ['co2_per_unit', 'cost_per_unit']\n",
    "df_norm = df_cities.copy()\n",
    "for par in norm_par:\n",
    "    df_norm[par] = (df_cities[par]-df_cities[par].min())/(df_cities[par].max()-df_cities[par].min())"
   ]
  },
  {
   "cell_type": "code",
   "execution_count": 232,
   "metadata": {},
   "outputs": [],
   "source": [
    "def get_cost(emissions, cost, alpha):\n",
    "    return alpha*emissions + (1-alpha)*cost"
   ]
  },
  {
   "cell_type": "code",
   "execution_count": 233,
   "metadata": {},
   "outputs": [],
   "source": [
    "def get_cost_path(city_orig, city_dest, df_func):\n",
    "    if(city_orig[2:] == city_dest[2:]):\n",
    "        return 0\n",
    "    pes = df_func[(df_func['city_from_name']==city_orig[2:]) & (df_func['city_to_name']==city_dest[2:])]\n",
    "    if pes.empty:\n",
    "        pes = df_func[(df_func['city_from_name']==city_dest[2:]) & (df_func['city_to_name']==city_orig[2:])]\n",
    "    return pes['cost'].values[0]"
   ]
  },
  {
   "cell_type": "code",
   "execution_count": 234,
   "metadata": {},
   "outputs": [],
   "source": [
    "def declare_costs_graph(G, ports, hubs, cities, df_func):\n",
    "    for p in ports:\n",
    "        for h in hubs:\n",
    "            pes = get_cost_path(p, h, df_func)\n",
    "            G.add_edge(p, h, cost=pes)\n",
    "    for h in hubs:\n",
    "        for c in cities:\n",
    "            pes = get_cost_path(c, h, df_func)\n",
    "            G.add_edge(h, c, cost=pes)"
   ]
  },
  {
   "cell_type": "code",
   "execution_count": 235,
   "metadata": {},
   "outputs": [],
   "source": [
    "# Matrix that stores the cost of minimum path of: [port][customer][extra hub]\n",
    "# extra_hub = 0 -> no extra hub, extra_hub -> extra hub - 1\n",
    "def get_min_cost_matrix(G, ports, cities, df_func):\n",
    "    M = np.zeros((len(ports), len(cities), len(cities)+1))\n",
    "    for p in range(len(ports)):\n",
    "        for c in range(len(cities)):\n",
    "            M[p, c, 0] = nx.dijkstra_path_length(G, ports[p], cities[c], weight='cost')\n",
    "\n",
    "    for p in range(len(ports)):\n",
    "        for c in range(len(cities)):\n",
    "            for h in range(1, len(cities)+1):\n",
    "                new_path = get_cost_path(ports[p], cities[h-1], df_func) + get_cost_path(cities[h-1], cities[c], df_func)\n",
    "                M[p, c, h] = min(M[p, c, 0], new_path)\n",
    "    return M"
   ]
  },
  {
   "cell_type": "code",
   "execution_count": 236,
   "metadata": {},
   "outputs": [
    {
     "data": {
      "image/png": "[encoded data removed]",
      "text/plain": [
       "<Figure size 640x480 with 1 Axes>"
      ]
     },
     "metadata": {},
     "output_type": "display_data"
    }
   ],
   "source": [
    "PORTS = ['Barcelona', 'Rotterdam', 'Athens']\n",
    "HUBS = ['Hamburg', 'Lille', 'Warsaw', 'Zaragoza', 'Bratislava', 'Dusseldorf', 'Liege', 'Venlo', 'Rome']\n",
    "CITIES  = df_cities['city_from_name'].unique()\n",
    "PORTS = ['p-'+p for p in PORTS]\n",
    "HUBS = ['h-'+h for h in HUBS]\n",
    "CITIES = ['c-'+c for c in CITIES]\n",
    "\n",
    "# create graph\n",
    "G = nx.Graph()\n",
    "for x in PORTS + HUBS + CITIES:\n",
    "    G.add_node(x, bipartite= ['p-', 'h-', 'c-'].index(x[:2]))\n",
    "\n",
    "\n",
    "nodes = G.nodes()\n",
    "# for each of the parts create a set \n",
    "nodes_0  = set([n for n in nodes if  G.nodes[n]['bipartite']==0])\n",
    "nodes_1  = set([n for n in nodes if  G.nodes[n]['bipartite']==1])\n",
    "nodes_2  = set([n for n in nodes if  G.nodes[n]['bipartite']==2])\n",
    "\n",
    "# set the location of the nodes for each set\n",
    "pos = dict()\n",
    "pos.update( (n, (1, i)) for i, n in enumerate(nodes_0) ) # put nodes from X at x=1\n",
    "pos.update( (n, (2, i)) for i, n in enumerate(nodes_1) ) # put nodes from Y at x=2\n",
    "pos.update( (n, (3, i)) for i, n in enumerate(nodes_2) ) # put nodes from X at x=1\n",
    "# draw graph\n",
    "nx.draw(G, pos=pos)"
   ]
  },
  {
   "cell_type": "code",
   "execution_count": 237,
   "metadata": {},
   "outputs": [],
   "source": [
    "def generate_matrices(alpha):\n",
    "    # generates the matrices for each of the weights\n",
    "    matrices = [] # list of matrixs for each weight class\n",
    "    for weight in range(10):\n",
    "        df_cities_weight = df_norm.iloc[weight::10,:]\n",
    "        cost = [get_cost(df_cities_weight['co2_per_unit'].iloc[i], df_cities_weight['cost_per_unit'].iloc[i], alpha) for i in range(len(df_cities_weight))]\n",
    "        df_cities_weight['cost'] = cost\n",
    "        df_cities_weight = df_cities_weight.drop(columns=['co2_per_unit', 'cost_per_unit', 'city_from_coord', 'city_to_coord', 'weight_class', 'distance'])\n",
    "        declare_costs_graph(G, PORTS, HUBS, CITIES, df_cities_weight)\n",
    "        M = get_min_cost_matrix(G, PORTS, CITIES, df_cities_weight)\n",
    "        matrices.append(M)\n",
    "    return matrices"
   ]
  },
  {
   "cell_type": "code",
   "execution_count": 238,
   "metadata": {},
   "outputs": [],
   "source": [
    "def get_freq_matrix(df_func):\n",
    "    # Matrix that stores the frequency of  path: [weight][port][customer]\n",
    "    F = np.zeros((10, len(PORTS), len(CITIES)))\n",
    "    for w in range(10):\n",
    "        for p in range(len(PORTS)):\n",
    "            for c in range(len(CITIES)):\n",
    "                F[w, p, c] = np.sum(df_func.loc[(df_func['weight_class']==w) & (df_func['origin_port']==PORTS[p][2:]) & (df_func['customer']==CITIES[c][2:])]['units'].values)\n",
    "    return F"
   ]
  },
  {
   "cell_type": "code",
   "execution_count": 239,
   "metadata": {},
   "outputs": [],
   "source": [
    "df_orders = pd.read_csv('data\\dataframefinal.csv')\n",
    "F = get_freq_matrix(df_orders)"
   ]
  },
  {
   "cell_type": "code",
   "execution_count": 240,
   "metadata": {},
   "outputs": [],
   "source": [
    "# we ponderate the vector with the calclated frequencies\n",
    "def ponderate_vector(matrices, F, alpha):\n",
    "    pond_vect = []\n",
    "    for extra_h in range(len(CITIES)+1):\n",
    "        sum = 0\n",
    "        for w in range(10):\n",
    "            for p in range(len(PORTS)):\n",
    "                for c in range(len(CITIES)):\n",
    "                    sum += F[w, p, c]*matrices[w][p, c, extra_h]\n",
    "        if not CITIES[extra_h-1][2:] in [h[2:] for h in HUBS]:\n",
    "            pond_vect.append((alpha, sum, CITIES[extra_h-1][2:] if extra_h > 0 else 'AAAA None'))\n",
    "    return pond_vect"
   ]
  },
  {
   "cell_type": "code",
   "execution_count": 241,
   "metadata": {},
   "outputs": [],
   "source": [
    "def sort_and_save(pond_vect, alpha):\n",
    "    pond_vect.sort()\n",
    "    df = pd.DataFrame(pond_vect, columns=['alpha', 'cost', 'extra_hub'])\n",
    "    existing_df = pd.read_csv('data/results_alpha.csv')\n",
    "    if not alpha in existing_df['alpha'].unique():\n",
    "        df.to_csv('data/results_alpha.csv', mode='a', index=False, header=False)"
   ]
  },
  {
   "cell_type": "code",
   "execution_count": 242,
   "metadata": {},
   "outputs": [],
   "source": [
    "def show_pond_vector(pond_vect):\n",
    "    # histogram of pond_vect\n",
    "    plt.bar([x[2] for x in pond_vect], [x[1] for x in pond_vect])\n",
    "    plt.xticks(rotation=90)\n",
    "    offset = 500\n",
    "    plt.ylim(pond_vect[0][1] - offset, pond_vect[-1][1] + offset)\n",
    "    plt.show()"
   ]
  },
  {
   "cell_type": "code",
   "execution_count": 243,
   "metadata": {},
   "outputs": [],
   "source": [
    "def generate_hub_list(alpha, show = False):\n",
    "    matrices = generate_matrices(alpha)\n",
    "    pond_vect = ponderate_vector(matrices, F, alpha)\n",
    "    sort_and_save(pond_vect, alpha)\n",
    "    if show:\n",
    "        show_pond_vector(pond_vect)"
   ]
  },
  {
   "cell_type": "code",
   "execution_count": 244,
   "metadata": {},
   "outputs": [],
   "source": [
    "def better_extra_hub(alpha, port = False):\n",
    "    '''returns the better extra hub for a given alpha'''\n",
    "    df = pd.read_csv('data/results_alpha.csv')\n",
    "    df = df.loc[df['alpha']==alpha]\n",
    "    for i, x in df.iterrows():\n",
    "        if port:\n",
    "            return x['extra_hub']\n",
    "        else:\n",
    "            if not x['extra_hub'] in [p[2:] for p in PORTS]:\n",
    "                return x['extra_hub']"
   ]
  },
  {
   "cell_type": "code",
   "execution_count": null,
   "metadata": {},
   "outputs": [],
   "source": [
    "for alpha in range(0, 10):\n",
    "    generate_hub_list(alpha/10)\n",
    "    print('With alpha', alpha/10, 'better extra hub city:',better_extra_hub(alpha/10))"
   ]
  },
  {
   "cell_type": "code",
   "execution_count": 275,
   "metadata": {},
   "outputs": [
    {
     "name": "stdout",
     "output_type": "stream",
     "text": [
      "COST with Amsterdam hub: 327_413_735.4\n",
      "co2 EMISSION with Marseille hub 566_732_476.3\n"
     ]
    }
   ],
   "source": [
    "calculated_df = pd.read_csv('data/results_alpha.csv')\n",
    "# para Amsterdam (alpha = 0, main objective is reduce cost)\n",
    "normalized_cost = calculated_df.loc[(calculated_df['alpha']==0) & (calculated_df['extra_hub']=='Amsterdam')]['cost'].values[0]\n",
    "original_cost = normalized_cost*(df_cities['cost_per_unit'].max() - df_cities['cost_per_unit'].min()) + df_cities['cost_per_unit'].min()\n",
    "print(f\"COST with Amsterdam hub: {original_cost:_.1f}\")\n",
    "\n",
    "# para Marseille (alpha = 1, main objective is reduce co2)\n",
    "normalized_cost = calculated_df.loc[(calculated_df['alpha']==1) & (calculated_df['extra_hub']=='Marseille')]['cost'].values[0]\n",
    "original_cost = normalized_cost*(df_cities['co2_per_unit'].max() - df_cities['co2_per_unit'].min()) + df_cities['co2_per_unit'].min()\n",
    "print(f\"co2 EMISSION with Marseille hub {original_cost:_.1f}\")"
   ]
  },
  {
   "cell_type": "code",
   "execution_count": null,
   "metadata": {},
   "outputs": [],
   "source": []
  },
  {
   "cell_type": "code",
   "execution_count": 247,
   "metadata": {},
   "outputs": [
    {
     "name": "stdout",
     "output_type": "stream",
     "text": [
      "Marseille\n"
     ]
    }
   ],
   "source": [
    "best = better_extra_hub(1)\n",
    "print(best)"
   ]
  }
 ],
 "metadata": {
  "kernelspec": {
   "display_name": "Python 3.10.3 64-bit",
   "language": "python",
   "name": "python3"
  },
  "language_info": {
   "codemirror_mode": {
    "name": "ipython",
    "version": 3
   },
   "file_extension": ".py",
   "mimetype": "text/x-python",
   "name": "python",
   "nbconvert_exporter": "python",
   "pygments_lexer": "ipython3",
   "version": "3.10.3"
  },
  "orig_nbformat": 4,
  "vscode": {
   "interpreter": {
    "hash": "b98a2b09b9de8fffaa69dfd080b74c478acb0275cece3c1d796f26473ec875b6"
   }
  }
 },
 "nbformat": 4,
 "nbformat_minor": 2
}
