{
  "cells": [
    {
      "cell_type": "code",
      "execution_count": 2,
      "metadata": {
        "id": "aIROZGfFhDaw"
      },
      "outputs": [],
      "source": [
        "from sklearn.model_selection import cross_val_score, train_test_split\n",
        "from numpy import mean\n",
        "from sklearn.datasets import make_classification\n",
        "from sklearn.model_selection import RepeatedStratifiedKFold\n",
        "from sklearn.tree import DecisionTreeClassifier\n",
        "from xgboost import XGBClassifier\n",
        "from imblearn.over_sampling import SMOTE\n",
        "from imblearn.under_sampling import RandomUnderSampler\n",
        "from sklearn.metrics import roc_auc_score\n",
        "from sklearn.calibration import CalibratedClassifierCV\n",
        "import pandas as pd"
      ]
    },
    {
      "cell_type": "code",
      "execution_count": null,
      "metadata": {
        "colab": {
          "base_uri": "https://localhost:8080/"
        },
        "id": "ZNgq24dnh2hP",
        "outputId": "2e432b14-23b3-4839-fa1f-62c460773014"
      },
      "outputs": [],
      "source": []
    },
    {
      "cell_type": "code",
      "execution_count": 3,
      "metadata": {
        "id": "QjbJn5TUiOxx"
      },
      "outputs": [],
      "source": [
        "df = pd.read_csv('./data/dataframefinal.csv',sep=',')\n",
        "df = df.drop(columns=['order_id'])\n",
        "df_test = pd.read_csv('./data/test_dataframe.csv',sep=',')\n",
        "df_orders = pd.read_csv('./data/orders.csv',sep=';')\n",
        "df = df.drop(columns=['distance'])\n",
        "df = pd.get_dummies(df)"
      ]
    },
    {
      "cell_type": "code",
      "execution_count": 4,
      "metadata": {
        "id": "zUIVB0kliuDw"
      },
      "outputs": [],
      "source": [
        "df.fillna(-1)\n",
        "concat_col = df.select_dtypes(['object']).columns\n",
        "df[concat_col] = df[concat_col].apply(lambda x:pd.factorize(x)[0])"
      ]
    },
    {
      "cell_type": "code",
      "execution_count": 5,
      "metadata": {
        "colab": {
          "base_uri": "https://localhost:8080/",
          "height": 300
        },
        "id": "fOvkahl7jXJ7",
        "outputId": "265fdb4f-5e70-41a4-ae28-13aae615d185"
      },
      "outputs": [
        {
          "data": {
            "text/html": [
              "<div>\n",
              "<style scoped>\n",
              "    .dataframe tbody tr th:only-of-type {\n",
              "        vertical-align: middle;\n",
              "    }\n",
              "\n",
              "    .dataframe tbody tr th {\n",
              "        vertical-align: top;\n",
              "    }\n",
              "\n",
              "    .dataframe thead th {\n",
              "        text-align: right;\n",
              "    }\n",
              "</style>\n",
              "<table border=\"1\" class=\"dataframe\">\n",
              "  <thead>\n",
              "    <tr style=\"text-align: right;\">\n",
              "      <th></th>\n",
              "      <th>product_id</th>\n",
              "      <th>units</th>\n",
              "      <th>late_order</th>\n",
              "      <th>weight</th>\n",
              "      <th>material_handling</th>\n",
              "      <th>weight_class</th>\n",
              "      <th>origin_port_Athens</th>\n",
              "      <th>origin_port_Barcelona</th>\n",
              "      <th>origin_port_Rotterdam</th>\n",
              "      <th>3pl_v_001</th>\n",
              "      <th>...</th>\n",
              "      <th>customer_Munich</th>\n",
              "      <th>customer_Naples</th>\n",
              "      <th>customer_Paris</th>\n",
              "      <th>customer_Porto</th>\n",
              "      <th>customer_Prague</th>\n",
              "      <th>customer_Rome</th>\n",
              "      <th>customer_Stockholm</th>\n",
              "      <th>customer_Turin</th>\n",
              "      <th>customer_Valencia</th>\n",
              "      <th>customer_Vienna</th>\n",
              "    </tr>\n",
              "  </thead>\n",
              "  <tbody>\n",
              "    <tr>\n",
              "      <th>0</th>\n",
              "      <td>1692723</td>\n",
              "      <td>9</td>\n",
              "      <td>True</td>\n",
              "      <td>1778</td>\n",
              "      <td>5</td>\n",
              "      <td>8</td>\n",
              "      <td>0</td>\n",
              "      <td>0</td>\n",
              "      <td>1</td>\n",
              "      <td>0</td>\n",
              "      <td>...</td>\n",
              "      <td>0</td>\n",
              "      <td>0</td>\n",
              "      <td>0</td>\n",
              "      <td>0</td>\n",
              "      <td>0</td>\n",
              "      <td>0</td>\n",
              "      <td>0</td>\n",
              "      <td>0</td>\n",
              "      <td>0</td>\n",
              "      <td>0</td>\n",
              "    </tr>\n",
              "    <tr>\n",
              "      <th>1</th>\n",
              "      <td>1692723</td>\n",
              "      <td>0</td>\n",
              "      <td>False</td>\n",
              "      <td>1778</td>\n",
              "      <td>5</td>\n",
              "      <td>8</td>\n",
              "      <td>0</td>\n",
              "      <td>1</td>\n",
              "      <td>0</td>\n",
              "      <td>0</td>\n",
              "      <td>...</td>\n",
              "      <td>0</td>\n",
              "      <td>0</td>\n",
              "      <td>0</td>\n",
              "      <td>0</td>\n",
              "      <td>0</td>\n",
              "      <td>0</td>\n",
              "      <td>0</td>\n",
              "      <td>0</td>\n",
              "      <td>0</td>\n",
              "      <td>0</td>\n",
              "    </tr>\n",
              "    <tr>\n",
              "      <th>2</th>\n",
              "      <td>1692723</td>\n",
              "      <td>4</td>\n",
              "      <td>False</td>\n",
              "      <td>1778</td>\n",
              "      <td>5</td>\n",
              "      <td>8</td>\n",
              "      <td>0</td>\n",
              "      <td>0</td>\n",
              "      <td>1</td>\n",
              "      <td>0</td>\n",
              "      <td>...</td>\n",
              "      <td>0</td>\n",
              "      <td>0</td>\n",
              "      <td>0</td>\n",
              "      <td>0</td>\n",
              "      <td>0</td>\n",
              "      <td>0</td>\n",
              "      <td>0</td>\n",
              "      <td>0</td>\n",
              "      <td>0</td>\n",
              "      <td>0</td>\n",
              "    </tr>\n",
              "    <tr>\n",
              "      <th>3</th>\n",
              "      <td>1692723</td>\n",
              "      <td>1</td>\n",
              "      <td>False</td>\n",
              "      <td>1778</td>\n",
              "      <td>5</td>\n",
              "      <td>8</td>\n",
              "      <td>0</td>\n",
              "      <td>0</td>\n",
              "      <td>1</td>\n",
              "      <td>0</td>\n",
              "      <td>...</td>\n",
              "      <td>0</td>\n",
              "      <td>0</td>\n",
              "      <td>0</td>\n",
              "      <td>0</td>\n",
              "      <td>0</td>\n",
              "      <td>0</td>\n",
              "      <td>0</td>\n",
              "      <td>0</td>\n",
              "      <td>0</td>\n",
              "      <td>0</td>\n",
              "    </tr>\n",
              "    <tr>\n",
              "      <th>4</th>\n",
              "      <td>1692723</td>\n",
              "      <td>7</td>\n",
              "      <td>False</td>\n",
              "      <td>1778</td>\n",
              "      <td>5</td>\n",
              "      <td>8</td>\n",
              "      <td>1</td>\n",
              "      <td>0</td>\n",
              "      <td>0</td>\n",
              "      <td>0</td>\n",
              "      <td>...</td>\n",
              "      <td>0</td>\n",
              "      <td>0</td>\n",
              "      <td>0</td>\n",
              "      <td>0</td>\n",
              "      <td>0</td>\n",
              "      <td>0</td>\n",
              "      <td>0</td>\n",
              "      <td>0</td>\n",
              "      <td>0</td>\n",
              "      <td>0</td>\n",
              "    </tr>\n",
              "  </tbody>\n",
              "</table>\n",
              "<p>5 rows × 54 columns</p>\n",
              "</div>"
            ],
            "text/plain": [
              "   product_id  units  late_order  weight  material_handling  weight_class  \\\n",
              "0     1692723      9        True    1778                  5             8   \n",
              "1     1692723      0       False    1778                  5             8   \n",
              "2     1692723      4       False    1778                  5             8   \n",
              "3     1692723      1       False    1778                  5             8   \n",
              "4     1692723      7       False    1778                  5             8   \n",
              "\n",
              "   origin_port_Athens  origin_port_Barcelona  origin_port_Rotterdam  \\\n",
              "0                   0                      0                      1   \n",
              "1                   0                      1                      0   \n",
              "2                   0                      0                      1   \n",
              "3                   0                      0                      1   \n",
              "4                   1                      0                      0   \n",
              "\n",
              "   3pl_v_001  ...  customer_Munich  customer_Naples  customer_Paris  \\\n",
              "0          0  ...                0                0               0   \n",
              "1          0  ...                0                0               0   \n",
              "2          0  ...                0                0               0   \n",
              "3          0  ...                0                0               0   \n",
              "4          0  ...                0                0               0   \n",
              "\n",
              "   customer_Porto  customer_Prague  customer_Rome  customer_Stockholm  \\\n",
              "0               0                0              0                   0   \n",
              "1               0                0              0                   0   \n",
              "2               0                0              0                   0   \n",
              "3               0                0              0                   0   \n",
              "4               0                0              0                   0   \n",
              "\n",
              "   customer_Turin  customer_Valencia  customer_Vienna  \n",
              "0               0                  0                0  \n",
              "1               0                  0                0  \n",
              "2               0                  0                0  \n",
              "3               0                  0                0  \n",
              "4               0                  0                0  \n",
              "\n",
              "[5 rows x 54 columns]"
            ]
          },
          "execution_count": 5,
          "metadata": {},
          "output_type": "execute_result"
        }
      ],
      "source": [
        "df.head()"
      ]
    },
    {
      "cell_type": "code",
      "execution_count": 6,
      "metadata": {
        "id": "-PJZBKwyjYTW"
      },
      "outputs": [],
      "source": [
        "X = df.loc[:,df.columns != 'late_order']\n",
        "y = df['late_order']"
      ]
    },
    {
      "cell_type": "code",
      "execution_count": 7,
      "metadata": {
        "id": "lGKOlFf0jiZs"
      },
      "outputs": [],
      "source": [
        "import numpy as np\n",
        "import pandas as pd\n",
        "from sklearn.svm import SVC\n",
        "from sklearn.model_selection import train_test_split\n",
        "from sklearn.preprocessing import StandardScaler\n",
        "from sklearn.linear_model import LogisticRegression\n",
        "from sklearn.pipeline import Pipeline\n",
        "from sklearn.metrics import roc_curve, roc_auc_score, classification_report, accuracy_score, confusion_matrix\n"
      ]
    },
    {
      "cell_type": "code",
      "execution_count": 8,
      "metadata": {
        "id": "I2R154gBkVF3"
      },
      "outputs": [],
      "source": [
        "over = SMOTE()\n",
        "X, y = over.fit_resample(X,y)\n",
        "X_train, X_test, y_train, y_test = train_test_split(X, y, test_size=0.2)"
      ]
    },
    {
      "cell_type": "code",
      "execution_count": null,
      "metadata": {
        "colab": {
          "base_uri": "https://localhost:8080/"
        },
        "id": "MZQPp8WJjzIy",
        "outputId": "4cd07596-3c2a-4dc0-cd2f-e135e873cf8c"
      },
      "outputs": [
        {
          "name": "stdout",
          "output_type": "stream",
          "text": [
            "174070 174070\n"
          ]
        }
      ],
      "source": [
        "print(len(X),len(y))\n",
        "from collections import Counter\n",
        "counter = Counter(y)\n",
        "estimate = float(counter[0]/counter[1])"
      ]
    },
    {
      "cell_type": "code",
      "execution_count": null,
      "metadata": {
        "id": "XMjupiPapXWB"
      },
      "outputs": [],
      "source": [
        "xgb = XGBClassifier(scale_pos_weight=estimate)"
      ]
    },
    {
      "cell_type": "code",
      "execution_count": null,
      "metadata": {
        "colab": {
          "base_uri": "https://localhost:8080/"
        },
        "id": "5Glrf4Clpbwq",
        "outputId": "8d20b1e5-6872-416f-dca7-a35be33c22b0"
      },
      "outputs": [
        {
          "data": {
            "text/plain": [
              "XGBClassifier(scale_pos_weight=1.0)"
            ]
          },
          "execution_count": 11,
          "metadata": {},
          "output_type": "execute_result"
        }
      ],
      "source": [
        "xgb.fit(X_train, y_train)"
      ]
    },
    {
      "cell_type": "code",
      "execution_count": null,
      "metadata": {
        "colab": {
          "base_uri": "https://localhost:8080/"
        },
        "id": "u20KI4RfpeJB",
        "outputId": "f06e27b1-9bca-4c14-afce-023a5e189911"
      },
      "outputs": [
        {
          "name": "stdout",
          "output_type": "stream",
          "text": [
            "Training AUC: 92.6887 %\n",
            "Training accuracy: 85.4491 %\n"
          ]
        }
      ],
      "source": [
        "y_train_hat = xgb.predict(X_train)\n",
        "y_train_hat_probs = xgb.predict_proba(X_train)[:,1]\n",
        "\n",
        "train_accuracy = accuracy_score(y_train, y_train_hat)*100\n",
        "train_auc_roc = roc_auc_score(y_train, y_train_hat_probs)*100\n",
        "\n",
        "print('Training AUC: %.4f %%' % train_auc_roc)\n",
        "\n",
        "print('Training accuracy: %.4f %%' % train_accuracy)"
      ]
    },
    {
      "cell_type": "code",
      "execution_count": null,
      "metadata": {
        "colab": {
          "base_uri": "https://localhost:8080/"
        },
        "id": "pGeLDRTMqttF",
        "outputId": "dc5b0f2a-907a-4906-d270-57415aa9b3c7"
      },
      "outputs": [
        {
          "name": "stdout",
          "output_type": "stream",
          "text": [
            "Training AUC: 92.6887 %\n",
            "Training accuracy: 85.4491 %\n"
          ]
        }
      ],
      "source": [
        "y_test_hat = xgb.predict(X_test)\n",
        "y_test_hat_probs = xgb.predict_proba(X_test)[:,1]\n",
        "\n",
        "test_accuracy = accuracy_score(y_test, y_test_hat)*100\n",
        "test_auc_roc = roc_auc_score(y_test, y_test_hat_probs)*100\n",
        "\n",
        "print('Training AUC: %.4f %%' % train_auc_roc)\n",
        "\n",
        "print('Training accuracy: %.4f %%' % train_accuracy)"
      ]
    },
    {
      "cell_type": "code",
      "execution_count": null,
      "metadata": {
        "colab": {
          "base_uri": "https://localhost:8080/",
          "height": 270
        },
        "id": "gZ4kN76HoJSp",
        "outputId": "94775b27-f62a-4ee2-8d6a-a175ccd2b9a2"
      },
      "outputs": [
        {
          "data": {
            "text/html": [
              "\n",
              "  <div id=\"df-cb0fa77b-7018-4c10-a35a-1abbf4806812\">\n",
              "    <div class=\"colab-df-container\">\n",
              "      <div>\n",
              "<style scoped>\n",
              "    .dataframe tbody tr th:only-of-type {\n",
              "        vertical-align: middle;\n",
              "    }\n",
              "\n",
              "    .dataframe tbody tr th {\n",
              "        vertical-align: top;\n",
              "    }\n",
              "\n",
              "    .dataframe thead th {\n",
              "        text-align: right;\n",
              "    }\n",
              "</style>\n",
              "<table border=\"1\" class=\"dataframe\">\n",
              "  <thead>\n",
              "    <tr style=\"text-align: right;\">\n",
              "      <th></th>\n",
              "      <th>order_id</th>\n",
              "      <th>origin_port</th>\n",
              "      <th>3pl</th>\n",
              "      <th>customs_procedures</th>\n",
              "      <th>logistic_hub</th>\n",
              "      <th>customer</th>\n",
              "      <th>product_id</th>\n",
              "      <th>units</th>\n",
              "      <th>weight</th>\n",
              "      <th>material_handling</th>\n",
              "      <th>weight_class</th>\n",
              "      <th>distance</th>\n",
              "    </tr>\n",
              "  </thead>\n",
              "  <tbody>\n",
              "    <tr>\n",
              "      <th>0</th>\n",
              "      <td>0e364fa5c795</td>\n",
              "      <td>Rotterdam</td>\n",
              "      <td>v_002</td>\n",
              "      <td>CRF</td>\n",
              "      <td>Warsaw</td>\n",
              "      <td>Munich</td>\n",
              "      <td>1687644</td>\n",
              "      <td>4</td>\n",
              "      <td>1974.0</td>\n",
              "      <td>5</td>\n",
              "      <td>8</td>\n",
              "      <td>1951.6946</td>\n",
              "    </tr>\n",
              "    <tr>\n",
              "      <th>1</th>\n",
              "      <td>6c8c11251114</td>\n",
              "      <td>Rotterdam</td>\n",
              "      <td>v_002</td>\n",
              "      <td>CRF</td>\n",
              "      <td>Venlo</td>\n",
              "      <td>Barcelona</td>\n",
              "      <td>1687644</td>\n",
              "      <td>1</td>\n",
              "      <td>1974.0</td>\n",
              "      <td>5</td>\n",
              "      <td>8</td>\n",
              "      <td>1283.4637</td>\n",
              "    </tr>\n",
              "    <tr>\n",
              "      <th>2</th>\n",
              "      <td>81d3be5e1eff</td>\n",
              "      <td>Athens</td>\n",
              "      <td>v_002</td>\n",
              "      <td>DTD</td>\n",
              "      <td>Warsaw</td>\n",
              "      <td>Lyon</td>\n",
              "      <td>1687644</td>\n",
              "      <td>8</td>\n",
              "      <td>1974.0</td>\n",
              "      <td>5</td>\n",
              "      <td>8</td>\n",
              "      <td>2982.0120</td>\n",
              "    </tr>\n",
              "    <tr>\n",
              "      <th>3</th>\n",
              "      <td>870a9b65a1b5</td>\n",
              "      <td>Rotterdam</td>\n",
              "      <td>v_001</td>\n",
              "      <td>CRF</td>\n",
              "      <td>Dusseldorf</td>\n",
              "      <td>Berlin</td>\n",
              "      <td>1687644</td>\n",
              "      <td>8</td>\n",
              "      <td>1974.0</td>\n",
              "      <td>5</td>\n",
              "      <td>8</td>\n",
              "      <td>654.6792</td>\n",
              "    </tr>\n",
              "    <tr>\n",
              "      <th>4</th>\n",
              "      <td>eff072956d66</td>\n",
              "      <td>Rotterdam</td>\n",
              "      <td>v_002</td>\n",
              "      <td>CRF</td>\n",
              "      <td>Rome</td>\n",
              "      <td>Milan</td>\n",
              "      <td>1687644</td>\n",
              "      <td>0</td>\n",
              "      <td>1974.0</td>\n",
              "      <td>5</td>\n",
              "      <td>8</td>\n",
              "      <td>1746.5587</td>\n",
              "    </tr>\n",
              "  </tbody>\n",
              "</table>\n",
              "</div>\n",
              "      <button class=\"colab-df-convert\" onclick=\"convertToInteractive('df-cb0fa77b-7018-4c10-a35a-1abbf4806812')\"\n",
              "              title=\"Convert this dataframe to an interactive table.\"\n",
              "              style=\"display:none;\">\n",
              "        \n",
              "  <svg xmlns=\"http://www.w3.org/2000/svg\" height=\"24px\"viewBox=\"0 0 24 24\"\n",
              "       width=\"24px\">\n",
              "    <path d=\"M0 0h24v24H0V0z\" fill=\"none\"/>\n",
              "    <path d=\"M18.56 5.44l.94 2.06.94-2.06 2.06-.94-2.06-.94-.94-2.06-.94 2.06-2.06.94zm-11 1L8.5 8.5l.94-2.06 2.06-.94-2.06-.94L8.5 2.5l-.94 2.06-2.06.94zm10 10l.94 2.06.94-2.06 2.06-.94-2.06-.94-.94-2.06-.94 2.06-2.06.94z\"/><path d=\"M17.41 7.96l-1.37-1.37c-.4-.4-.92-.59-1.43-.59-.52 0-1.04.2-1.43.59L10.3 9.45l-7.72 7.72c-.78.78-.78 2.05 0 2.83L4 21.41c.39.39.9.59 1.41.59.51 0 1.02-.2 1.41-.59l7.78-7.78 2.81-2.81c.8-.78.8-2.07 0-2.86zM5.41 20L4 18.59l7.72-7.72 1.47 1.35L5.41 20z\"/>\n",
              "  </svg>\n",
              "      </button>\n",
              "      \n",
              "  <style>\n",
              "    .colab-df-container {\n",
              "      display:flex;\n",
              "      flex-wrap:wrap;\n",
              "      gap: 12px;\n",
              "    }\n",
              "\n",
              "    .colab-df-convert {\n",
              "      background-color: #E8F0FE;\n",
              "      border: none;\n",
              "      border-radius: 50%;\n",
              "      cursor: pointer;\n",
              "      display: none;\n",
              "      fill: #1967D2;\n",
              "      height: 32px;\n",
              "      padding: 0 0 0 0;\n",
              "      width: 32px;\n",
              "    }\n",
              "\n",
              "    .colab-df-convert:hover {\n",
              "      background-color: #E2EBFA;\n",
              "      box-shadow: 0px 1px 2px rgba(60, 64, 67, 0.3), 0px 1px 3px 1px rgba(60, 64, 67, 0.15);\n",
              "      fill: #174EA6;\n",
              "    }\n",
              "\n",
              "    [theme=dark] .colab-df-convert {\n",
              "      background-color: #3B4455;\n",
              "      fill: #D2E3FC;\n",
              "    }\n",
              "\n",
              "    [theme=dark] .colab-df-convert:hover {\n",
              "      background-color: #434B5C;\n",
              "      box-shadow: 0px 1px 3px 1px rgba(0, 0, 0, 0.15);\n",
              "      filter: drop-shadow(0px 1px 2px rgba(0, 0, 0, 0.3));\n",
              "      fill: #FFFFFF;\n",
              "    }\n",
              "  </style>\n",
              "\n",
              "      <script>\n",
              "        const buttonEl =\n",
              "          document.querySelector('#df-cb0fa77b-7018-4c10-a35a-1abbf4806812 button.colab-df-convert');\n",
              "        buttonEl.style.display =\n",
              "          google.colab.kernel.accessAllowed ? 'block' : 'none';\n",
              "\n",
              "        async function convertToInteractive(key) {\n",
              "          const element = document.querySelector('#df-cb0fa77b-7018-4c10-a35a-1abbf4806812');\n",
              "          const dataTable =\n",
              "            await google.colab.kernel.invokeFunction('convertToInteractive',\n",
              "                                                     [key], {});\n",
              "          if (!dataTable) return;\n",
              "\n",
              "          const docLinkHtml = 'Like what you see? Visit the ' +\n",
              "            '<a target=\"_blank\" href=https://colab.research.google.com/notebooks/data_table.ipynb>data table notebook</a>'\n",
              "            + ' to learn more about interactive tables.';\n",
              "          element.innerHTML = '';\n",
              "          dataTable['output_type'] = 'display_data';\n",
              "          await google.colab.output.renderOutput(dataTable, element);\n",
              "          const docLink = document.createElement('div');\n",
              "          docLink.innerHTML = docLinkHtml;\n",
              "          element.appendChild(docLink);\n",
              "        }\n",
              "      </script>\n",
              "    </div>\n",
              "  </div>\n",
              "  "
            ],
            "text/plain": [
              "       order_id origin_port    3pl customs_procedures logistic_hub   customer  \\\n",
              "0  0e364fa5c795   Rotterdam  v_002                CRF       Warsaw     Munich   \n",
              "1  6c8c11251114   Rotterdam  v_002                CRF        Venlo  Barcelona   \n",
              "2  81d3be5e1eff      Athens  v_002                DTD       Warsaw       Lyon   \n",
              "3  870a9b65a1b5   Rotterdam  v_001                CRF   Dusseldorf     Berlin   \n",
              "4  eff072956d66   Rotterdam  v_002                CRF         Rome      Milan   \n",
              "\n",
              "   product_id  units  weight  material_handling  weight_class   distance  \n",
              "0     1687644      4  1974.0                  5             8  1951.6946  \n",
              "1     1687644      1  1974.0                  5             8  1283.4637  \n",
              "2     1687644      8  1974.0                  5             8  2982.0120  \n",
              "3     1687644      8  1974.0                  5             8   654.6792  \n",
              "4     1687644      0  1974.0                  5             8  1746.5587  "
            ]
          },
          "execution_count": 14,
          "metadata": {},
          "output_type": "execute_result"
        }
      ],
      "source": [
        "df_test.head()"
      ]
    },
    {
      "cell_type": "code",
      "execution_count": null,
      "metadata": {
        "id": "XMIHh-Z4nd2_"
      },
      "outputs": [],
      "source": [
        "df_test = df_test.drop(columns=['distance'])\n",
        "df_test = pd.get_dummies(df_test)\n",
        "pred_proba = xgb.predict_proba(df_test)\n",
        "submission = pd.DataFrame({'order_id':df_test.order_id, 'late_order':pred_proba[:,1]})\n",
        "submission.to_csv('submission_kaggle_9.csv')"
      ]
    },
    {
      "cell_type": "code",
      "execution_count": null,
      "metadata": {
        "id": "RdA_AvP9oFNn"
      },
      "outputs": [],
      "source": []
    }
  ],
  "metadata": {
    "accelerator": "GPU",
    "colab": {
      "provenance": []
    },
    "gpuClass": "standard",
    "kernelspec": {
      "display_name": "Python 3.10.3 64-bit",
      "language": "python",
      "name": "python3"
    },
    "language_info": {
      "codemirror_mode": {
        "name": "ipython",
        "version": 3
      },
      "file_extension": ".py",
      "mimetype": "text/x-python",
      "name": "python",
      "nbconvert_exporter": "python",
      "pygments_lexer": "ipython3",
      "version": "3.10.3"
    },
    "vscode": {
      "interpreter": {
        "hash": "b98a2b09b9de8fffaa69dfd080b74c478acb0275cece3c1d796f26473ec875b6"
      }
    }
  },
  "nbformat": 4,
  "nbformat_minor": 0
}
